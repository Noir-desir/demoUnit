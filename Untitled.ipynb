{
 "cells": [
  {
   "cell_type": "markdown",
   "metadata": {},
   "source": [
    "# selenium使用方法"
   ]
  },
  {
   "cell_type": "markdown",
   "metadata": {
    "collapsed": true
   },
   "source": [
    "## 建立连接并打开浏览器"
   ]
  },
  {
   "cell_type": "code",
   "execution_count": 17,
   "metadata": {
    "collapsed": false
   },
   "outputs": [],
   "source": [
    "from selenium import webdriver\n",
    "import time\n",
    "\n",
    "browser = webdriver.Chrome()    #浏览器包含Firefox()、Safari()、IE();注意要下载相关驱动程序\n",
    "\n",
    "try:\n",
    "    browser.get('http://www.runoob.com/')    #打开浏览器\n",
    "    input = browser.find_element_by_id('s')  #找到定位元素\n",
    "    input.send_keys('python')                #输入关键字\n",
    "    time.sleep(4)                            #设置等待时间\n",
    "\n",
    "finally:\n",
    "    browser.close()                          #建议每次关闭驱动程序，否则只有在进程中删除\n",
    "    "
   ]
  },
  {
   "cell_type": "markdown",
   "metadata": {},
   "source": [
    "##  定位元素写法"
   ]
  },
  {
   "cell_type": "markdown",
   "metadata": {},
   "source": [
    "find_element_by_name  \n",
    "find_element_by_xpath  \n",
    "find_element_by_link_text  \n",
    "find_element_by_tag_name  \n",
    "find_element_by_class_name  \n",
    "find_element_by_css_selector  \n",
    "                       #find_elements 代表选取多个元素"
   ]
  },
  {
   "cell_type": "code",
   "execution_count": 27,
   "metadata": {
    "collapsed": false
   },
   "outputs": [
    {
     "name": "stdout",
     "output_type": "stream",
     "text": [
      "<selenium.webdriver.remote.webelement.WebElement (session=\"ddfdc8a08a98faac23cf32d606fbf087\", element=\"0.40801108306506784-1\")> \n",
      " <selenium.webdriver.remote.webelement.WebElement (session=\"ddfdc8a08a98faac23cf32d606fbf087\", element=\"0.40801108306506784-1\")> \n",
      " <selenium.webdriver.remote.webelement.WebElement (session=\"ddfdc8a08a98faac23cf32d606fbf087\", element=\"0.40801108306506784-1\")> \n",
      " <selenium.webdriver.remote.webelement.WebElement (session=\"ddfdc8a08a98faac23cf32d606fbf087\", element=\"0.40801108306506784-1\")> \n",
      " <selenium.webdriver.remote.webelement.WebElement (session=\"ddfdc8a08a98faac23cf32d606fbf087\", element=\"0.40801108306506784-2\")>\n"
     ]
    }
   ],
   "source": [
    "from selenium import webdriver\n",
    "import time\n",
    "\n",
    "browser = webdriver.Chrome()\n",
    "browser.get('https://www.taobao.com/')\n",
    "time.sleep(5)\n",
    "input1 = browser.find_element_by_name('q')\n",
    "input2 = browser.find_element_by_xpath('//*[@accesskey=\"s\"]')\n",
    "input3 = browser.find_element_by_tag_name('input')\n",
    "input4 = browser.find_element_by_class_name('search-combobox-input')\n",
    "input5 = browser.find_element_by_link_text('亲，请登录')\n",
    "input6 = browser.find_element_by_css_selector('')\n",
    "browser.close() \n",
    "\n",
    "print(input1,'\\n',input2,'\\n',input3,'\\n',input4,'\\n',input5)"
   ]
  },
  {
   "cell_type": "code",
   "execution_count": null,
   "metadata": {
    "collapsed": true
   },
   "outputs": [],
   "source": []
  }
 ],
 "metadata": {
  "anaconda-cloud": {},
  "kernelspec": {
   "display_name": "Python [default]",
   "language": "python",
   "name": "python3"
  },
  "language_info": {
   "codemirror_mode": {
    "name": "ipython",
    "version": 3
   },
   "file_extension": ".py",
   "mimetype": "text/x-python",
   "name": "python",
   "nbconvert_exporter": "python",
   "pygments_lexer": "ipython3",
   "version": "3.5.2"
  }
 },
 "nbformat": 4,
 "nbformat_minor": 1
}
